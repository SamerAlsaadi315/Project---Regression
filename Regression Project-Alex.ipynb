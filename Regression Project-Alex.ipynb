{
 "cells": [
  {
   "cell_type": "code",
   "execution_count": null,
   "metadata": {},
   "outputs": [],
   "source": [
    "#Data Analysis\n",
    "import numpy as np\n",
    "import pandas as pd\n",
    "\n",
    "# Visualization\n",
    "import seaborn as sns\n",
    "import matplotlib.pyplot as plt\n",
    "\n",
    "# Machine Learning\n",
    "import statsmodels.api as sm\n",
    "from sklearn.model_selection import train_test_split\n",
    "from sklearn.linear_model import LinearRegression\n",
    "from sklearn.linear_model import LogisticRegression\n",
    "from sklearn.metrics import confusion_matrix\n",
    "from sklearn.metrics import classification_report"
   ]
  },
  {
   "cell_type": "code",
   "execution_count": null,
   "metadata": {},
   "outputs": [],
   "source": [
    "# Import dataset\n",
    "covid = pd.read_csv(r'C:\\Users\\samra\\Desktop\\Data Science Bootcamp\\Regression-Project\\Quebec Covid-19.csv')\n",
    "\n",
    "# Filter dataset to Quebec only\n",
    "covid = covid.loc[covid['prname'] == 'Quebec']\n",
    "\n",
    "# Remove unwanted columns\n",
    "covid.drop(['pruid', 'prnameFR', 'numprob', 'update', 'numtested', 'numtests', 'numrecover', 'percentrecover','ratetested', 'ratetests', 'percentoday', 'ratetotal', 'ratedeaths',\n",
    "            'percentdeath', 'numtestedtoday', 'numteststoday', 'numrecoveredtoday','percentactive', 'rateactive', 'numtotal_last14', 'ratetotal_last14', 'ratedeaths_last14',\n",
    "            'numdeaths_last14', 'ratetotal_last7', 'ratedeaths_last7', 'avgtotal_last7','avgincidence_last7', 'avgdeaths_last7', 'avgratedeaths_last7', 'raterecovered'], axis = 1, inplace = True)\n",
    "\n",
    "# Convert date\n",
    "covid['date'] = pd.to_datetime(covid['date'])\n",
    "covid['date_year'] = covid['date'].dt.year\n",
    "covid['date_month'] = covid['date'].dt.month\n",
    "\n",
    "\n",
    "# X = date\n",
    "# Y = numconf, numtoday, numdeathstoday, numrecoveredtoday, numtotal_last7, numdeaths_last7\n",
    "\n",
    "covid.info()"
   ]
  }
 ],
 "metadata": {
  "interpreter": {
   "hash": "e2473fc95a402e9c32f3b78627a1207d10e5d5cbf0a98ec05f04c4895e0ec8ae"
  },
  "kernelspec": {
   "display_name": "Python 3 (ipykernel)",
   "language": "python",
   "name": "python3"
  },
  "language_info": {
   "codemirror_mode": {
    "name": "ipython",
    "version": 3
   },
   "file_extension": ".py",
   "mimetype": "text/x-python",
   "name": "python",
   "nbconvert_exporter": "python",
   "pygments_lexer": "ipython3",
   "version": "3.9.9"
  }
 },
 "nbformat": 4,
 "nbformat_minor": 2
}
