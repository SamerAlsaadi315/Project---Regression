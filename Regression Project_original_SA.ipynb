{
 "cells": [
  {
   "cell_type": "code",
   "execution_count": null,
   "metadata": {},
   "outputs": [],
   "source": [
    "#Data Analysis\n",
    "import numpy as np\n",
    "import pandas as pd\n",
    "import datetime as dt\n",
    "\n",
    "# Visualization\n",
    "import seaborn as sns\n",
    "import matplotlib.pyplot as plt\n",
    "\n",
    "# Machine Learning\n",
    "import statsmodels.api as sm\n",
    "from sklearn.model_selection import train_test_split\n",
    "from sklearn.linear_model import LinearRegression\n",
    "from sklearn.linear_model import LogisticRegression\n",
    "from sklearn.metrics import confusion_matrix\n",
    "from sklearn.metrics import classification_report"
   ]
  },
  {
   "cell_type": "code",
   "execution_count": null,
   "metadata": {},
   "outputs": [],
   "source": [
    "# Import dataset\n",
    "covid = pd.read_csv(r'C:\\Users\\samra\\Desktop\\Data Science Bootcamp\\Regression-Project\\Quebec Covid-19.csv')\n",
    "\n",
    "# Filter dataset to Quebec only\n",
    "covid = covid.loc[covid['prname'] == 'Quebec']\n",
    "\n",
    "# Remove unwanted columns\n",
    "covid.drop(['pruid', 'prnameFR', 'numprob', 'update', 'numtested', 'numtests', 'numrecover', 'percentrecover','ratetested', 'ratetests', 'percentoday', 'ratetotal', 'ratedeaths',\n",
    "            'percentdeath', 'numtestedtoday', 'numteststoday', 'numrecoveredtoday','percentactive', 'rateactive', 'numtotal_last14', 'ratetotal_last14', 'ratedeaths_last14',\n",
    "            'numdeaths_last14', 'ratetotal_last7', 'ratedeaths_last7', 'avgtotal_last7','avgincidence_last7', 'avgdeaths_last7', 'avgratedeaths_last7', 'raterecovered'], axis = 1, inplace = True)\n",
    "\n",
    "# Convert date\n",
    "covid['date'] = pd.to_datetime(covid['date'])\n",
    "\n",
    "covid['date_year'] = covid['date'].dt.year\n",
    "covid['date_month'] = covid['date'].dt.month\n",
    "#covid['date'] = covid['date'].dt.date\n",
    "\n",
    "# Deal with N/A values\n",
    "# Only num_total_last7 and numdeaths_last7 have minimal empty values due to the nature of the variable. Fill empty values with 0\n",
    "covid['numtotal_last7'].fillna(0, inplace = True)\n",
    "covid['numdeaths_last7'].fillna(0, inplace = True)\n",
    "\n",
    "# X = date\n",
    "# Y = numconf, numtoday, numdeathstoday, numrecoveredtoday, numtotal_last7, numdeaths_last7\n",
    "\n",
    "covid.info()"
   ]
  },
  {
   "cell_type": "code",
   "execution_count": null,
   "metadata": {},
   "outputs": [],
   "source": [
    "# We are interested in desinging RDD using (numtoday | numtotal_last7 | numdeaths_last7)\n",
    "\n",
    "# Lets use the date variable and set a threshold to see what we can expect from final model\n",
    "# covid['date_month'] -= 8\n",
    "\n",
    "# plt.figure(figsize = (8,8))\n",
    "# ax = plt.subplot(3, 1, 1)\n",
    "# covid.plot.scatter(x = 'date_month', y = 'numtoday', ax = ax)\n",
    "\n",
    "# ax = plt.subplot(3, 1, 2, sharex = ax)\n",
    "# covid.plot.scatter(x = 'date_month', y = 'numtotal_last7', ax = ax)\n",
    "\n",
    "# ax = plt.subplot(3, 1, 3, sharex = ax)\n",
    "# covid.plot.scatter(x = 'date_month', y = 'numdeaths_last7', ax = ax)\n",
    "\n",
    "# Following the opening of schools in August, the total cases and 7 day rolling average seems to increase\n",
    "# This doesnt show a good picture as the input date variable is not ideal."
   ]
  },
  {
   "cell_type": "code",
   "execution_count": null,
   "metadata": {},
   "outputs": [],
   "source": [
    "covid.reset_index(inplace = True)"
   ]
  },
  {
   "cell_type": "code",
   "execution_count": null,
   "metadata": {},
   "outputs": [],
   "source": [
    "# One possible solution is to create a new column called days_from_start which represents a numerical value\n",
    "# that incremenets by 1 for each day that have passed after 2020-03-01 (keeping in mind an increment represents available data)\n",
    "# Correction: Start from 2020-03-05 as data is missing 02 and 04\n",
    "covid = covid.drop(index = 0)\n",
    "covid = covid.drop(index = 1)\n",
    "covid.reset_index(inplace = True)"
   ]
  },
  {
   "cell_type": "code",
   "execution_count": null,
   "metadata": {},
   "outputs": [],
   "source": [
    "covid['days_from_start'] = covid.index"
   ]
  },
  {
   "cell_type": "code",
   "execution_count": null,
   "metadata": {},
   "outputs": [],
   "source": [
    "covid = covid.drop(columns = ['level_0', 'index'])"
   ]
  },
  {
   "cell_type": "code",
   "execution_count": null,
   "metadata": {},
   "outputs": [],
   "source": [
    "# Now we can use the new column as the threshold for the RDD model.\n",
    "# Plug into a simple linear regression model\n"
   ]
  }
 ],
 "metadata": {
  "interpreter": {
   "hash": "e2473fc95a402e9c32f3b78627a1207d10e5d5cbf0a98ec05f04c4895e0ec8ae"
  },
  "kernelspec": {
   "display_name": "Python 3.8.8 64-bit ('base': conda)",
   "language": "python",
   "name": "python3"
  },
  "language_info": {
   "codemirror_mode": {
    "name": "ipython",
    "version": 3
   },
   "file_extension": ".py",
   "mimetype": "text/x-python",
   "name": "python",
   "nbconvert_exporter": "python",
   "pygments_lexer": "ipython3",
   "version": "3.8.8"
  },
  "orig_nbformat": 4
 },
 "nbformat": 4,
 "nbformat_minor": 2
}
